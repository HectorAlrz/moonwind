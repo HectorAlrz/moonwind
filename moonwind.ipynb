{
  "cells": [
    {
      "cell_type": "markdown",
      "metadata": {
        "colab_type": "text",
        "id": "view-in-github"
      },
      "source": [
        "<a href=\"https://colab.research.google.com/github/HectorAlrz/moonwind/blob/main/moonwind.ipynb\" target=\"_parent\"><img src=\"https://colab.research.google.com/assets/colab-badge.svg\" alt=\"Open In Colab\"/></a>"
      ]
    },
    {
      "cell_type": "code",
      "execution_count": null,
      "metadata": {
        "id": "0ZF80njhBO04"
      },
      "outputs": [],
      "source": [
        "import sqlalchemy\n",
        "\n",
        "\n",
        "db_path = 'data/moonwind.db'\n",
        "\n",
        "engine = sqlalchemy.create_engine(f'sqlite:///{db_path}')\n",
        "\n",
        "\n",
        "with engine.connect() as connection:\n",
        "  result = connection.execute(\"SELECT sqlite_version();\")\n",
        "  print(result.fetchone())\n"
      ]
    }
  ],
  "metadata": {
    "colab": {
      "authorship_tag": "ABX9TyM+d5KdPBPwfwPXwNWilCpH",
      "include_colab_link": true,
      "provenance": [],
      "toc_visible": true
    },
    "kernelspec": {
      "display_name": "Python 3",
      "name": "python3"
    },
    "language_info": {
      "name": "python"
    }
  },
  "nbformat": 4,
  "nbformat_minor": 0
}
