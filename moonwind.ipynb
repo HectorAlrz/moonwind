{
  "cells": [
    {
      "cell_type": "markdown",
      "metadata": {
        "id": "view-in-github",
        "colab_type": "text"
      },
      "source": [
        "<a href=\"https://colab.research.google.com/github/HectorAlrz/moonwind/blob/main/moonwind.ipynb\" target=\"_parent\"><img src=\"https://colab.research.google.com/assets/colab-badge.svg\" alt=\"Open In Colab\"/></a>"
      ]
    },
    {
      "cell_type": "code",
      "execution_count": 5,
      "metadata": {
        "id": "0ZF80njhBO04",
        "outputId": "868e296b-711b-403d-bc5e-98b568e89893",
        "colab": {
          "base_uri": "https://localhost:8080/"
        }
      },
      "outputs": [
        {
          "output_type": "stream",
          "name": "stdout",
          "text": [
            "('3.37.2',)\n"
          ]
        }
      ],
      "source": [
        "import sqlalchemy\n",
        "import os # Import the os module to interact with the operating system\n",
        "\n",
        "db_path = 'data/moonwind.db'\n",
        "\n",
        "# Ensure the directory for the database exists\n",
        "data_dir = os.path.dirname(db_path)\n",
        "if not os.path.exists(data_dir):\n",
        "    os.makedirs(data_dir) # Create the directory if it doesn't exist\n",
        "\n",
        "engine = sqlalchemy.create_engine(f'sqlite:///{db_path}')\n",
        "\n",
        "with engine.connect() as connection:\n",
        "  # Use sqlalchemy.text() to create an executable object from the SQL string\n",
        "  result = connection.execute(sqlalchemy.text(\"SELECT sqlite_version();\"))\n",
        "  print(result.fetchone())\n"
      ]
    }
  ],
  "metadata": {
    "colab": {
      "provenance": [],
      "toc_visible": true,
      "include_colab_link": true
    },
    "kernelspec": {
      "display_name": "Python 3",
      "name": "python3"
    },
    "language_info": {
      "name": "python"
    }
  },
  "nbformat": 4,
  "nbformat_minor": 0
}